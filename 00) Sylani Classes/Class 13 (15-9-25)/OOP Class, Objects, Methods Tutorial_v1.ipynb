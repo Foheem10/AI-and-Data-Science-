{
 "cells": [
  {
   "cell_type": "markdown",
   "id": "ae8e65ac-49e7-47f9-a99b-cc1b34bff6a7",
   "metadata": {},
   "source": [
    "Object Oriented Programming (OOP) - Tutorial"
   ]
  },
  {
   "cell_type": "markdown",
   "id": "b76dd3ef-3891-440c-9f5f-20a66b6032cf",
   "metadata": {},
   "source": [
    "Learning Objective:\n",
    "\n",
    "1. What are Class, Objects and Methods.\n",
    "2. Types of Attributes:\n",
    "    a. Instance/Object attributes.\n",
    "    b. Class attributes.\n",
    "3. Types of Methods:\n",
    "    a. Instance/Object Methods.\n",
    "    b. Magic Methods\n"
   ]
  },
  {
   "cell_type": "markdown",
   "id": "e1d14830-79f5-41fa-972d-6ace8c4cd771",
   "metadata": {},
   "source": [
    "Classes:\n",
    "Classes are used to create user-defined data structures. A class is a blueprint used to create objects\n",
    "1. It defines the properties (attribute/variable) and behaviours (method/function) that objects will have.\n",
    "2. Objects are the real thing (i.e. contains real data in memory) created from class\n",
    "\n",
    "Analogy (Questionnaire form):\n",
    "A class is like a questionnaire form, that defines the needed information. After you fill out the form, your specific copy is an instance of the class, which contains the actual information. Just like we fill multiple forms, so you can also create multiple objects from class (blueprint). The objects created from the class are termed as instances\n"
   ]
  },
  {
   "cell_type": "markdown",
   "id": "a650d29b-d131-4000-92b0-e7ecaa379595",
   "metadata": {},
   "source": [
    "A class is defined by using class keyword and must have a name. The convention for naming the class in Python is to use CamelCase notation."
   ]
  },
  {
   "cell_type": "code",
   "execution_count": 54,
   "id": "3fb48a6a-2389-49ff-ae46-cb696968d0b2",
   "metadata": {},
   "outputs": [],
   "source": [
    "# Defining Class\n",
    "class StudentRecords():\n",
    "    pass"
   ]
  },
  {
   "cell_type": "code",
   "execution_count": 55,
   "id": "bcf205d3-6af0-47c3-b58e-43dc3358d24e",
   "metadata": {},
   "outputs": [
    {
     "name": "stdout",
     "output_type": "stream",
     "text": [
      "<__main__.StudentRecords object at 0x00000187DAD7D010>\n",
      "<__main__.StudentRecords object at 0x00000187D982DF90>\n",
      "False\n",
      "<class '__main__.StudentRecords'>\n",
      "<class '__main__.StudentRecords'>\n"
     ]
    }
   ],
   "source": [
    "obj1 = StudentRecords()\n",
    "obj2 = StudentRecords()\n",
    "print(obj1)\n",
    "print(obj2)\n",
    "\n",
    "print(obj1 == obj2)\n",
    "\n",
    "print(type(obj1))\n",
    "print(type(obj2))"
   ]
  },
  {
   "cell_type": "code",
   "execution_count": 56,
   "id": "864e7b3b-6c72-4f1e-abbd-b0e372207436",
   "metadata": {},
   "outputs": [
    {
     "data": {
      "text/plain": [
       "['__class__',\n",
       " '__delattr__',\n",
       " '__dict__',\n",
       " '__dir__',\n",
       " '__doc__',\n",
       " '__eq__',\n",
       " '__firstlineno__',\n",
       " '__format__',\n",
       " '__ge__',\n",
       " '__getattribute__',\n",
       " '__getstate__',\n",
       " '__gt__',\n",
       " '__hash__',\n",
       " '__init__',\n",
       " '__init_subclass__',\n",
       " '__le__',\n",
       " '__lt__',\n",
       " '__module__',\n",
       " '__ne__',\n",
       " '__new__',\n",
       " '__reduce__',\n",
       " '__reduce_ex__',\n",
       " '__repr__',\n",
       " '__setattr__',\n",
       " '__sizeof__',\n",
       " '__static_attributes__',\n",
       " '__str__',\n",
       " '__subclasshook__',\n",
       " '__weakref__']"
      ]
     },
     "execution_count": 56,
     "metadata": {},
     "output_type": "execute_result"
    }
   ],
   "source": [
    "dir(obj1)"
   ]
  },
  {
   "cell_type": "markdown",
   "id": "230ff95e-ca05-4a1f-b122-4b6c37f29a1c",
   "metadata": {},
   "source": [
    "To define properties (instance attributes), we use a special method called .__init__(). \n",
    "This method is run every time a new object of the class is created and tells Python what will be the initial values of object attributes.\n",
    "The first positional argument of .__init__() method is always a variable that reference the class instance. This variable is universally named as self. After self argument you can specify the other arguments required to create an instance of the class. It is recommended to add all the necessry attributes to the __init__ method.\n"
   ]
  },
  {
   "cell_type": "markdown",
   "id": "a482d0bd-4684-4fef-8ca4-da426275dcb4",
   "metadata": {},
   "source": [
    "Types of Methods:\n",
    "1. Instance Methods:\n",
    "    a.  Defined with ---> def method_name(self)   \n",
    "    b.  First argument is self (refers to instance/object)\n",
    "    b.  Can access and modify instance attributes\n",
    "2. Magic Methods:\n",
    "    a.  Special methods in Python (surrounded by __)\n",
    "    b.  Used for customized built-in operations like printing, addition, length etc"
   ]
  },
  {
   "cell_type": "code",
   "execution_count": 57,
   "id": "be81de17-28dd-470f-bb68-8893f7f031ee",
   "metadata": {},
   "outputs": [],
   "source": [
    "class StudentRecords():\n",
    "    # class attributes (shared across all objects/instances)\n",
    "    institute = \"Saylani Mass IT\"\n",
    "    \n",
    "    # Part1: defining class and instance attributes\n",
    "    # construtor\n",
    "    def __init__(self, name, roll_no, course, marks):\n",
    "        # instance attributes/variables\n",
    "        self.name = name   #create an instance attribute name and assign it the value\n",
    "        self.roll_no = roll_no\n",
    "        self.course = course\n",
    "        self.marks = marks\n",
    "\n",
    "    # Part2: \n",
    "    # When we print the object/instance, then the memory address where object is created is printed.\n",
    "    # We use __str__ method to define what get displayed when we print the object\n",
    "    def __str__(self):    # magic method\n",
    "        return f\"Student: {self.name} enrolled in course: {self.course}\"\n",
    "\n",
    "    # Part3:\n",
    "    # Instance methods - Behaviour of class on instance attributes\n",
    "    def display(self):\n",
    "        print(f\"Name: {self.name}\\nRoll no: {self.roll_no}\\nCourse: {self.course}\\n Marks: {self.marks}\")\n",
    "\n",
    "    # Part4:\n",
    "    # Instance methods\n",
    "    def ispass(self):\n",
    "        if self.marks > 50:\n",
    "            #self.is_pass = True\n",
    "            return f\"Student: {self.name} passes\"        \n",
    "        else:\n",
    "            #self.is_pass = False\n",
    "            return f\"Student: {self.name} fails\""
   ]
  },
  {
   "cell_type": "code",
   "execution_count": 58,
   "id": "0a5b5876-494a-40d3-b991-01ac02eb26e7",
   "metadata": {},
   "outputs": [
    {
     "data": {
      "text/plain": [
       "['__class__',\n",
       " '__delattr__',\n",
       " '__dict__',\n",
       " '__dir__',\n",
       " '__doc__',\n",
       " '__eq__',\n",
       " '__firstlineno__',\n",
       " '__format__',\n",
       " '__ge__',\n",
       " '__getattribute__',\n",
       " '__getstate__',\n",
       " '__gt__',\n",
       " '__hash__',\n",
       " '__init__',\n",
       " '__init_subclass__',\n",
       " '__le__',\n",
       " '__lt__',\n",
       " '__module__',\n",
       " '__ne__',\n",
       " '__new__',\n",
       " '__reduce__',\n",
       " '__reduce_ex__',\n",
       " '__repr__',\n",
       " '__setattr__',\n",
       " '__sizeof__',\n",
       " '__static_attributes__',\n",
       " '__str__',\n",
       " '__subclasshook__',\n",
       " '__weakref__',\n",
       " 'display',\n",
       " 'institute',\n",
       " 'ispass']"
      ]
     },
     "execution_count": 58,
     "metadata": {},
     "output_type": "execute_result"
    }
   ],
   "source": [
    "dir(StudentRecords)"
   ]
  },
  {
   "cell_type": "code",
   "execution_count": 59,
   "id": "bb5d6ab5-b45c-46ce-ae43-fc9523a68a75",
   "metadata": {},
   "outputs": [],
   "source": [
    "# creating objects from class\n",
    "student1 = StudentRecords(\"Ahsan\", \"qw321\", \"AI and DS\", 99)\n",
    "student2 = StudentRecords(\"Taha\", \"we422\", \"AI and DS\", 88)"
   ]
  },
  {
   "cell_type": "markdown",
   "id": "e17a7aab-4eb2-45b9-881a-8cb46d3cb93c",
   "metadata": {},
   "source": [
    "After instance is created we can access the instance attribute by using dot notation"
   ]
  },
  {
   "cell_type": "code",
   "execution_count": 60,
   "id": "70ecfc14-04f1-4475-818a-9b7803bd0441",
   "metadata": {},
   "outputs": [
    {
     "name": "stdout",
     "output_type": "stream",
     "text": [
      "Student1 records\n",
      "Ahsan\n",
      "qw321\n",
      "AI and DS\n",
      "99\n",
      "Saylani Mass IT\n",
      "Student2 records\n",
      "Taha\n",
      "we422\n",
      "AI and DS\n",
      "88\n",
      "Saylani Mass IT\n"
     ]
    }
   ],
   "source": [
    "# Student 1 records\n",
    "print(\"Student1 records\")\n",
    "print(student1.name)\n",
    "print(student1.roll_no)\n",
    "print(student1.course)\n",
    "print(student1.marks)\n",
    "print(student1.institute)\n",
    "\n",
    "# studesnt 2 records\n",
    "print(\"Student2 records\")\n",
    "print(student2.name)\n",
    "print(student2.roll_no)\n",
    "print(student2.course)\n",
    "print(student2.marks)\n",
    "print(student2.institute)"
   ]
  },
  {
   "cell_type": "code",
   "execution_count": 61,
   "id": "bf032c95-e17a-4692-a232-bec48c144ac0",
   "metadata": {},
   "outputs": [
    {
     "name": "stdout",
     "output_type": "stream",
     "text": [
      "SM\n",
      "Saylani Mass IT\n"
     ]
    }
   ],
   "source": [
    "student1.institute = \"SM\"\n",
    "\n",
    "print(student1.institute)\n",
    "print(student2.institute)"
   ]
  },
  {
   "cell_type": "code",
   "execution_count": 62,
   "id": "d3b3e23b-5d3d-4fa3-9461-8d84b7a8d17a",
   "metadata": {},
   "outputs": [
    {
     "name": "stdout",
     "output_type": "stream",
     "text": [
      "Student: Ahsan enrolled in course: AI and DS\n",
      "Student: Taha enrolled in course: AI and DS\n"
     ]
    }
   ],
   "source": [
    "print(student1)\n",
    "print(student2)"
   ]
  },
  {
   "cell_type": "markdown",
   "id": "6d859799-a802-4062-9c93-8f8acaea9a5d",
   "metadata": {},
   "source": [
    "Accessing instance attributes using instance methods"
   ]
  },
  {
   "cell_type": "code",
   "execution_count": 63,
   "id": "847b8c4e-4b88-44f1-958e-1a7fe27963f7",
   "metadata": {},
   "outputs": [
    {
     "name": "stdout",
     "output_type": "stream",
     "text": [
      "Name: Ahsan\n",
      "Roll no: qw321\n",
      "Course: AI and DS\n",
      " Marks: 99\n"
     ]
    }
   ],
   "source": [
    "student1.display()"
   ]
  },
  {
   "cell_type": "code",
   "execution_count": 64,
   "id": "b43a7e4f-80dd-40a5-935f-d1ce50b9ba41",
   "metadata": {},
   "outputs": [
    {
     "name": "stdout",
     "output_type": "stream",
     "text": [
      "Name: Taha\n",
      "Roll no: we422\n",
      "Course: AI and DS\n",
      " Marks: 88\n"
     ]
    }
   ],
   "source": [
    "student2.display()"
   ]
  },
  {
   "cell_type": "code",
   "execution_count": 65,
   "id": "94932a37-5096-43bf-ace3-23746c898774",
   "metadata": {},
   "outputs": [
    {
     "data": {
      "text/plain": [
       "['__class__',\n",
       " '__delattr__',\n",
       " '__dict__',\n",
       " '__dir__',\n",
       " '__doc__',\n",
       " '__eq__',\n",
       " '__firstlineno__',\n",
       " '__format__',\n",
       " '__ge__',\n",
       " '__getattribute__',\n",
       " '__getstate__',\n",
       " '__gt__',\n",
       " '__hash__',\n",
       " '__init__',\n",
       " '__init_subclass__',\n",
       " '__le__',\n",
       " '__lt__',\n",
       " '__module__',\n",
       " '__ne__',\n",
       " '__new__',\n",
       " '__reduce__',\n",
       " '__reduce_ex__',\n",
       " '__repr__',\n",
       " '__setattr__',\n",
       " '__sizeof__',\n",
       " '__static_attributes__',\n",
       " '__str__',\n",
       " '__subclasshook__',\n",
       " '__weakref__',\n",
       " 'course',\n",
       " 'display',\n",
       " 'institute',\n",
       " 'ispass',\n",
       " 'marks',\n",
       " 'name',\n",
       " 'roll_no']"
      ]
     },
     "execution_count": 65,
     "metadata": {},
     "output_type": "execute_result"
    }
   ],
   "source": [
    "# accessing methodsa and attributes of the object/instance\n",
    "dir(student1)\n"
   ]
  },
  {
   "cell_type": "markdown",
   "id": "11efefe3-7511-4696-99b2-ac207c8b0131",
   "metadata": {},
   "source": [
    "modify object attributes"
   ]
  },
  {
   "cell_type": "code",
   "execution_count": 66,
   "id": "60a7e730-aa79-4102-a123-d00d837bfa0d",
   "metadata": {},
   "outputs": [],
   "source": [
    "student1.marks = 47"
   ]
  },
  {
   "cell_type": "markdown",
   "id": "3ce36320-2ad2-4331-95b9-5eb05fe078fb",
   "metadata": {},
   "source": [
    "printing object attributes using object method"
   ]
  },
  {
   "cell_type": "code",
   "execution_count": 67,
   "id": "4c0c0c09-e0be-45e7-acad-3e9b13aa4550",
   "metadata": {},
   "outputs": [
    {
     "name": "stdout",
     "output_type": "stream",
     "text": [
      "Name: Ahsan\n",
      "Roll no: qw321\n",
      "Course: AI and DS\n",
      " Marks: 47\n"
     ]
    }
   ],
   "source": [
    "student1.display()"
   ]
  },
  {
   "cell_type": "code",
   "execution_count": 68,
   "id": "4ff2c63b-9535-42dc-a137-11171fbb342e",
   "metadata": {},
   "outputs": [
    {
     "data": {
      "text/plain": [
       "'Student: Ahsan fails'"
      ]
     },
     "execution_count": 68,
     "metadata": {},
     "output_type": "execute_result"
    }
   ],
   "source": [
    "student1.ispass()\n",
    "#student1.is_pass"
   ]
  },
  {
   "cell_type": "code",
   "execution_count": 69,
   "id": "405660ac-12de-473a-950f-2cc34fbbf963",
   "metadata": {},
   "outputs": [
    {
     "name": "stdout",
     "output_type": "stream",
     "text": [
      "Student: Ahsan enrolled in course: AI and DS\n"
     ]
    }
   ],
   "source": [
    "print(student1)"
   ]
  },
  {
   "cell_type": "code",
   "execution_count": 70,
   "id": "593d17d0-62a1-459c-8f4d-2b6481d1c84f",
   "metadata": {},
   "outputs": [
    {
     "data": {
      "text/plain": [
       "'Student: Taha passes'"
      ]
     },
     "execution_count": 70,
     "metadata": {},
     "output_type": "execute_result"
    }
   ],
   "source": [
    "student2.ispass()"
   ]
  },
  {
   "cell_type": "code",
   "execution_count": null,
   "id": "16e85c11-d0d0-4b2e-b7b4-05ea2d492567",
   "metadata": {},
   "outputs": [],
   "source": []
  },
  {
   "cell_type": "code",
   "execution_count": null,
   "id": "f36cea33-2a84-458a-af22-ffca29e249dc",
   "metadata": {},
   "outputs": [],
   "source": []
  },
  {
   "cell_type": "code",
   "execution_count": null,
   "id": "e398aee3-7416-4062-bd4c-3b7c87792f80",
   "metadata": {},
   "outputs": [],
   "source": []
  },
  {
   "cell_type": "code",
   "execution_count": null,
   "id": "129f18be-a4a1-43d8-addb-ed7ce5d85e01",
   "metadata": {},
   "outputs": [],
   "source": []
  }
 ],
 "metadata": {
  "kernelspec": {
   "display_name": "Python 3 (ipykernel)",
   "language": "python",
   "name": "python3"
  },
  "language_info": {
   "codemirror_mode": {
    "name": "ipython",
    "version": 3
   },
   "file_extension": ".py",
   "mimetype": "text/x-python",
   "name": "python",
   "nbconvert_exporter": "python",
   "pygments_lexer": "ipython3",
   "version": "3.13.5"
  }
 },
 "nbformat": 4,
 "nbformat_minor": 5
}
