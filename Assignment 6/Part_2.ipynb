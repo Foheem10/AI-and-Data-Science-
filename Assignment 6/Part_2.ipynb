{
 "cells": [
  {
   "cell_type": "code",
   "execution_count": 1,
   "id": "85f9ea9f",
   "metadata": {},
   "outputs": [],
   "source": [
    "import numpy as np"
   ]
  },
  {
   "cell_type": "markdown",
   "id": "1ddaf6f8",
   "metadata": {},
   "source": [
    " 1. Creating 1D and 2D array"
   ]
  },
  {
   "cell_type": "code",
   "execution_count": 20,
   "id": "e3bdb4dd",
   "metadata": {},
   "outputs": [
    {
     "name": "stdout",
     "output_type": "stream",
     "text": [
      "1D array:  [ 1  2  3  4  5  6  7  8  9 10]\n",
      "----------------------\n",
      "2D array: \n",
      "[[1 2 3]\n",
      " [4 5 6]\n",
      " [7 8 9]]\n"
     ]
    }
   ],
   "source": [
    "arr1 = np.arange(1, 11)\n",
    "print(\"1D array: \", arr1)\n",
    "print(\"----------------------\")\n",
    "arr2 = np.arange(1, 10).reshape(3, 3)\n",
    "print(\"2D array: \")\n",
    "print(arr2)"
   ]
  },
  {
   "cell_type": "markdown",
   "id": "81b5e391",
   "metadata": {},
   "source": [
    "2. Display"
   ]
  },
  {
   "cell_type": "code",
   "execution_count": 21,
   "id": "43c44336",
   "metadata": {},
   "outputs": [
    {
     "name": "stdout",
     "output_type": "stream",
     "text": [
      "Dimensions: 1\n",
      "Shape: (10,)\n",
      "Size: 10\n",
      "Data Type: int64\n",
      "Item Size: 8\n"
     ]
    }
   ],
   "source": [
    "# For 1D array\n",
    "\n",
    "print(\"Dimensions:\", arr1.ndim)\n",
    "print(\"Shape:\", arr1.shape)\n",
    "print(\"Size:\", arr1.size)\n",
    "print(\"Data Type:\", arr1.dtype)\n",
    "print(\"Item Size:\", arr1.itemsize)"
   ]
  },
  {
   "cell_type": "code",
   "execution_count": 22,
   "id": "74385d35",
   "metadata": {},
   "outputs": [
    {
     "name": "stdout",
     "output_type": "stream",
     "text": [
      "Dimensions: 2\n",
      "Shape: (3, 3)\n",
      "Size: 9\n",
      "Data Type: int64\n",
      "Item Size: 8\n"
     ]
    }
   ],
   "source": [
    "# For 2D array\n",
    "\n",
    "print(\"Dimensions:\", arr2.ndim)\n",
    "print(\"Shape:\", arr2.shape)\n",
    "print(\"Size:\", arr2.size)\n",
    "print(\"Data Type:\", arr2.dtype)\n",
    "print(\"Item Size:\", arr2.itemsize)\n"
   ]
  },
  {
   "cell_type": "markdown",
   "id": "757290f5",
   "metadata": {},
   "source": [
    "3. Converting float array to integer"
   ]
  },
  {
   "cell_type": "code",
   "execution_count": 35,
   "id": "a4eae841",
   "metadata": {},
   "outputs": [
    {
     "name": "stdout",
     "output_type": "stream",
     "text": [
      "Float Array:\n",
      "[[1.1 2.2 3.3]\n",
      " [4.4 5.5 6.6]\n",
      " [7.7 8.8 9.9]]\n",
      "----------------------------\n",
      "Converted Integer Array:\n",
      "[[1 2 3]\n",
      " [4 5 6]\n",
      " [7 8 9]]\n"
     ]
    }
   ],
   "source": [
    "float_arr = np.array([[1.1, 2.2, 3.3],\n",
    "                      [4.4, 5.5, 6.6],\n",
    "                      [7.7, 8.8, 9.9]])\n",
    "\n",
    "print(\"Float Array:\")\n",
    "print(float_arr)\n",
    "\n",
    "int_arr = float_arr.astype(int)\n",
    "\n",
    "print(\"----------------------------\")\n",
    "print(\"Converted Integer Array:\")\n",
    "print(int_arr)\n"
   ]
  }
 ],
 "metadata": {
  "kernelspec": {
   "display_name": "Python 3",
   "language": "python",
   "name": "python3"
  },
  "language_info": {
   "codemirror_mode": {
    "name": "ipython",
    "version": 3
   },
   "file_extension": ".py",
   "mimetype": "text/x-python",
   "name": "python",
   "nbconvert_exporter": "python",
   "pygments_lexer": "ipython3",
   "version": "3.13.5"
  }
 },
 "nbformat": 4,
 "nbformat_minor": 5
}
