{
 "cells": [
  {
   "cell_type": "code",
   "execution_count": 1,
   "id": "049fbcda",
   "metadata": {},
   "outputs": [],
   "source": [
    "import numpy as np"
   ]
  },
  {
   "cell_type": "code",
   "execution_count": 2,
   "id": "78ee7ee4",
   "metadata": {},
   "outputs": [
    {
     "name": "stdout",
     "output_type": "stream",
     "text": [
      "CPU times: total: 15.6 ms\n",
      "Wall time: 11.3 ms\n"
     ]
    }
   ],
   "source": [
    "%%time\n",
    "List1 = [i for i in range(100000)]\n",
    "List2 = [i for i in range(100000)]\n"
   ]
  },
  {
   "cell_type": "code",
   "execution_count": 3,
   "id": "48ff46a4",
   "metadata": {},
   "outputs": [
    {
     "name": "stdout",
     "output_type": "stream",
     "text": [
      "CPU times: total: 15.6 ms\n",
      "Wall time: 24.4 ms\n"
     ]
    }
   ],
   "source": [
    "%%time\n",
    "\n",
    "List3 = [List1[i] * List2[i] for i in range(100000)]\n"
   ]
  },
  {
   "cell_type": "code",
   "execution_count": 4,
   "id": "c5584249",
   "metadata": {},
   "outputs": [
    {
     "name": "stdout",
     "output_type": "stream",
     "text": [
      "CPU times: total: 0 ns\n",
      "Wall time: 1.22 ms\n"
     ]
    }
   ],
   "source": [
    "%%time\n",
    "\n",
    "Array1 = np.arange(100000)\n",
    "Array2 = np.arange(100000)\n"
   ]
  },
  {
   "cell_type": "code",
   "execution_count": 5,
   "id": "8d896867",
   "metadata": {},
   "outputs": [
    {
     "name": "stdout",
     "output_type": "stream",
     "text": [
      "CPU times: total: 0 ns\n",
      "Wall time: 1.34 ms\n"
     ]
    }
   ],
   "source": [
    "%%time\n",
    "\n",
    "Array3 = Array1 * Array2\n"
   ]
  },
  {
   "cell_type": "code",
   "execution_count": null,
   "id": "6f611080",
   "metadata": {},
   "outputs": [],
   "source": []
  }
 ],
 "metadata": {
  "kernelspec": {
   "display_name": "Python 3",
   "language": "python",
   "name": "python3"
  },
  "language_info": {
   "codemirror_mode": {
    "name": "ipython",
    "version": 3
   },
   "file_extension": ".py",
   "mimetype": "text/x-python",
   "name": "python",
   "nbconvert_exporter": "python",
   "pygments_lexer": "ipython3",
   "version": "3.13.5"
  }
 },
 "nbformat": 4,
 "nbformat_minor": 5
}
