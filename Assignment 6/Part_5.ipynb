{
 "cells": [
  {
   "cell_type": "code",
   "execution_count": 31,
   "id": "44b59635",
   "metadata": {},
   "outputs": [],
   "source": [
    "import numpy as np"
   ]
  },
  {
   "cell_type": "code",
   "execution_count": 32,
   "id": "ae15c86e",
   "metadata": {},
   "outputs": [
    {
     "name": "stdout",
     "output_type": "stream",
     "text": [
      "Array A: [3 8 6 4 7]\n",
      "Array B: [4 5 4 5 3]\n"
     ]
    }
   ],
   "source": [
    "A = np.random.randint(1, 10, size=5)\n",
    "B = np.random.randint(1, 10, size=5)\n",
    "\n",
    "print(\"Array A:\", A)\n",
    "print(\"Array B:\", B)\n"
   ]
  },
  {
   "cell_type": "code",
   "execution_count": 33,
   "id": "e543d96c",
   "metadata": {},
   "outputs": [
    {
     "name": "stdout",
     "output_type": "stream",
     "text": [
      "Addition: [ 7 13 10  9 10]\n",
      "Subtraction: [-1  3  2 -1  4]\n",
      "Multiplication: [12 40 24 20 21]\n",
      "Division: [0.75       1.6        1.5        0.8        2.33333333]\n"
     ]
    }
   ],
   "source": [
    "print(\"Addition:\", A+B)\n",
    "print(\"Subtraction:\", A-B)\n",
    "print(\"Multiplication:\", A*B)\n",
    "print(\"Division:\", A/B)\n"
   ]
  },
  {
   "cell_type": "markdown",
   "id": "e99e87c8",
   "metadata": {},
   "source": [
    "2. Vactorized  math fuction"
   ]
  },
  {
   "cell_type": "code",
   "execution_count": 47,
   "id": "5bacb3de",
   "metadata": {},
   "outputs": [
    {
     "name": "stdout",
     "output_type": "stream",
     "text": [
      "Array: [10 15 20 35 50]\n",
      "Square root: [3.16227766 3.87298335 4.47213595 5.91607978 7.07106781]\n",
      "Exponential: [2.20264658e+04 3.26901737e+06 4.85165195e+08 1.58601345e+15\n",
      " 5.18470553e+21]\n",
      "Sine: [-0.54402111  0.65028784  0.91294525 -0.42818267 -0.26237485]\n"
     ]
    }
   ],
   "source": [
    "arr = np.array([10, 15, 20, 35, 50])\n",
    "print(\"Array:\", arr)\n",
    "print(\"Square root:\", np.sqrt(arr))\n",
    "print(\"Exponential:\", np.exp(arr))\n",
    "print(\"Sine:\", np.sin(arr))\n"
   ]
  },
  {
   "cell_type": "markdown",
   "id": "4cff5fc0",
   "metadata": {},
   "source": [
    "3. Celsuis to Fahrenheit"
   ]
  },
  {
   "cell_type": "code",
   "execution_count": 50,
   "id": "0ed383d3",
   "metadata": {},
   "outputs": [
    {
     "name": "stdout",
     "output_type": "stream",
     "text": [
      "Celsius: [ 5 10 15 20 25 30 35 40 45 50]\n",
      "Fahrenheit: [ 41.  50.  59.  68.  77.  86.  95. 104. 113. 122.]\n"
     ]
    }
   ],
   "source": [
    "celsius = np.array([5, 10, 15, 20, 25, 30, 35, 40, 45, 50])\n",
    "print(\"Celsius:\", celsius)\n",
    "\n",
    "fahrenheit = (celsius * 9/5) + 32\n",
    "print(\"Fahrenheit:\", fahrenheit)\n"
   ]
  }
 ],
 "metadata": {
  "kernelspec": {
   "display_name": "Python 3",
   "language": "python",
   "name": "python3"
  },
  "language_info": {
   "codemirror_mode": {
    "name": "ipython",
    "version": 3
   },
   "file_extension": ".py",
   "mimetype": "text/x-python",
   "name": "python",
   "nbconvert_exporter": "python",
   "pygments_lexer": "ipython3",
   "version": "3.13.5"
  }
 },
 "nbformat": 4,
 "nbformat_minor": 5
}
