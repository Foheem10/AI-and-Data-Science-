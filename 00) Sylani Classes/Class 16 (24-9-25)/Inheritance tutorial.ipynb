{
 "cells": [
  {
   "cell_type": "markdown",
   "id": "845cc02d",
   "metadata": {},
   "source": [
    "Inheritance - Tutorial"
   ]
  },
  {
   "cell_type": "markdown",
   "id": "37eda026",
   "metadata": {},
   "source": [
    "Think of inheritance like a family tree.\n",
    "\n",
    "A child inherits traits (like eye color, height) from parents.\n",
    "\n",
    "Similarly, in programming, a child class inherits attributes and methods from a parent class."
   ]
  },
  {
   "cell_type": "markdown",
   "id": "e64f5ceb",
   "metadata": {},
   "source": [
    "1.  Single-level Inheritance:"
   ]
  },
  {
   "cell_type": "markdown",
   "id": "ddff2b79",
   "metadata": {},
   "source": [
    "Objective 1: Demonstration of How Child Class Inherit the Attributes and Methods from Parent CLass\n"
   ]
  },
  {
   "cell_type": "markdown",
   "id": "49754d51",
   "metadata": {},
   "source": [
    "![Single level inheritnce.png](https://github.com/RajaAhsan97/AI-and-Data-Science/blob/6b853d1ec7a88f4c398070af2aa1fffbbfd67826/Class%2016%20(9-24-25)/Single%2520level%2520inheritnce.png)"
   ]
  },
  {
   "cell_type": "code",
   "execution_count": 2,
   "id": "536eca5a",
   "metadata": {},
   "outputs": [],
   "source": [
    "# Parent Class or Base class or Super class\n",
    "class Parent():\n",
    "    # constructor\n",
    "    def __init__(self, e_color, h_color, lang):\n",
    "        # Instance attributes\n",
    "        self.eye_color =  e_color\n",
    "        self.hair_color = h_color\n",
    "        self.language = lang\n",
    "\n",
    "    # instance method\n",
    "    def speak(self):\n",
    "        print(f\"Parent can speak {self.language} language\")\n",
    "\n",
    "\n",
    "# child class or Derived class\n",
    "class Child(Parent):\n",
    "    pass"
   ]
  },
  {
   "cell_type": "code",
   "execution_count": 3,
   "id": "e57a82a7",
   "metadata": {},
   "outputs": [
    {
     "name": "stdout",
     "output_type": "stream",
     "text": [
      "------------ Parent Class ------------\n",
      "brown\n",
      "black\n",
      "Urdu\n",
      "Parent can speak Urdu language\n",
      "None\n"
     ]
    }
   ],
   "source": [
    "print(\"------------ Parent Class ------------\")\n",
    "p_obj = Parent(\"brown\", \"black\", \"Urdu\")\n",
    "# Access Attributes\n",
    "print(p_obj.eye_color)\n",
    "print(p_obj.hair_color)\n",
    "print(p_obj.language)\n",
    "# Access Methods\n",
    "print(p_obj.speak())"
   ]
  },
  {
   "cell_type": "code",
   "execution_count": 4,
   "id": "46ae7093",
   "metadata": {},
   "outputs": [
    {
     "ename": "TypeError",
     "evalue": "Parent.__init__() missing 3 required positional arguments: 'e_color', 'h_color', and 'lang'",
     "output_type": "error",
     "traceback": [
      "\u001b[1;31m---------------------------------------------------------------------------\u001b[0m",
      "\u001b[1;31mTypeError\u001b[0m                                 Traceback (most recent call last)",
      "Cell \u001b[1;32mIn[4], line 1\u001b[0m\n\u001b[1;32m----> 1\u001b[0m c_obj \u001b[38;5;241m=\u001b[39m \u001b[43mChild\u001b[49m\u001b[43m(\u001b[49m\u001b[43m)\u001b[49m\n",
      "\u001b[1;31mTypeError\u001b[0m: Parent.__init__() missing 3 required positional arguments: 'e_color', 'h_color', and 'lang'"
     ]
    }
   ],
   "source": [
    "c_obj = Child()"
   ]
  },
  {
   "cell_type": "code",
   "execution_count": 5,
   "id": "eeebde9d",
   "metadata": {},
   "outputs": [
    {
     "name": "stdout",
     "output_type": "stream",
     "text": [
      "------------ Child Class ------------\n",
      "brown\n",
      "black\n",
      "Urdu\n",
      "Parent can speak Urdu language\n",
      "None\n"
     ]
    }
   ],
   "source": [
    "c_obj = Child(\"Purple\", \"White\", \"English\")\n",
    "\n",
    "print(\"------------ Child Class ------------\")\n",
    "c_obj = Parent(\"brown\", \"black\", \"Urdu\")\n",
    "# Access Attributes\n",
    "print(c_obj.eye_color)\n",
    "print(c_obj.hair_color)\n",
    "print(c_obj.language)\n",
    "# Access Methods\n",
    "print(c_obj.speak())"
   ]
  },
  {
   "cell_type": "markdown",
   "id": "ed92ef41",
   "metadata": {},
   "source": [
    "Objective 2: Demonstration of How child Class can override the methods\n",
    "             of Parent Class and Child class has its own methods"
   ]
  },
  {
   "cell_type": "code",
   "execution_count": 11,
   "id": "8d338f67",
   "metadata": {},
   "outputs": [],
   "source": [
    "class Child(Parent):\n",
    "    #Instance methods\n",
    "    def speak(self, new_lang):\n",
    "        print(f\"Child can speak {self.language} and {new_lang} languages\")\n",
    "\n",
    "    def teaching(self, Subject):\n",
    "        print(f\"Child can teach {Subject}\")"
   ]
  },
  {
   "cell_type": "code",
   "execution_count": 12,
   "id": "3b9f26b0",
   "metadata": {},
   "outputs": [
    {
     "name": "stdout",
     "output_type": "stream",
     "text": [
      "--------------- Child Class --------------\n",
      "Purple\n",
      "White\n",
      "English\n",
      "Child can speak English and Urdu languages\n",
      "None\n",
      "Child can teach Python Programming\n",
      "None\n"
     ]
    }
   ],
   "source": [
    "c_obj = Child(\"Purple\", \"White\", \"English\")\n",
    "print(\"--------------- Child Class --------------\")\n",
    "print(c_obj.eye_color)\n",
    "print(c_obj.hair_color)\n",
    "print(c_obj.language)\n",
    "# Access Method of Child class speak(), this method overrides the method of Parent class\n",
    "print(c_obj.speak(\"Urdu\"))\n",
    "# Access Child class method\n",
    "print(c_obj.teaching(\"Python Programming\"))"
   ]
  },
  {
   "cell_type": "markdown",
   "id": "f8cf2814",
   "metadata": {},
   "source": [
    "Objective 3: Extending attributes of child class"
   ]
  },
  {
   "cell_type": "code",
   "execution_count": 14,
   "id": "1bf8ea11",
   "metadata": {},
   "outputs": [],
   "source": [
    "class Child(Parent):\n",
    "    # constructor\n",
    "    # When we create the object of child class then the __init__ method \n",
    "    # of child class with run. To run the __init__ methods of Parent class\n",
    "    # we use the super() function\n",
    "    def __init__(self, name, e_color, h_color, Lang):\n",
    "        super().__init__(e_color, h_color, Lang)\n",
    "\n",
    "        # Child INstance attribute\n",
    "        self.name = name\n",
    "\n",
    "    def speak(self, new_lang):\n",
    "        return f\"{self.name} can speak {self.language} and {new_lang}\"\n",
    "\n",
    "    def teaching(self, Subject):\n",
    "        return f\"{self.name} can teach {Subject}\""
   ]
  },
  {
   "cell_type": "code",
   "execution_count": 15,
   "id": "8a94ddae",
   "metadata": {},
   "outputs": [],
   "source": [
    "c_obj = Child(\"Faheem\", \"Black\", \"brown\", \"English\")"
   ]
  },
  {
   "cell_type": "code",
   "execution_count": 16,
   "id": "93346580",
   "metadata": {},
   "outputs": [
    {
     "name": "stdout",
     "output_type": "stream",
     "text": [
      "Faheem\n",
      "Black\n",
      "brown\n",
      "English\n",
      "Faheem can speak English and Urdu\n",
      "Faheem can teach Python\n"
     ]
    }
   ],
   "source": [
    "print(c_obj.name)\n",
    "print(c_obj.eye_color)\n",
    "print(c_obj.hair_color)\n",
    "print(c_obj.language)\n",
    "\n",
    "print(c_obj.speak(\"Urdu\"))\n",
    "print(c_obj.teaching(\"Python\"))"
   ]
  },
  {
   "cell_type": "markdown",
   "id": "79c58cbd",
   "metadata": {},
   "source": [
    "2.  Multi-level Inheritance:"
   ]
  },
  {
   "cell_type": "markdown",
   "id": "c2a84db4",
   "metadata": {},
   "source": [
    "Multi level inheritance means a child inherits from a parent, and another child inherits from that child.\n"
   ]
  },
  {
   "cell_type": "markdown",
   "id": "7dff4df8",
   "metadata": {},
   "source": [
    "![Multilevel inheritance.png](https://github.com/RajaAhsan97/AI-and-Data-Science/blob/6b853d1ec7a88f4c398070af2aa1fffbbfd67826/Class%2016%20(9-24-25)/Multilevel%2520inheritance.png)"
   ]
  },
  {
   "cell_type": "code",
   "execution_count": 18,
   "id": "50ff4770",
   "metadata": {},
   "outputs": [],
   "source": [
    "# class A --> Parent CLass  \n",
    "class Grandparent():\n",
    "    def __init__(self, g_name):\n",
    "        self.g_name = g_name\n",
    "\n",
    "    def show_grandparent(self):\n",
    "        print(f\"Grandparent Name: {self.g_name}\")\n",
    "\n",
    "# class B --> Child of class A \n",
    "class Parent(Grandparent):\n",
    "    def __init__(self, g_name, p_name):\n",
    "        super().__init__(g_name)\n",
    "        self.p_name = p_name\n",
    "\n",
    "    def show_parent(self):\n",
    "        print(f\"Parent Name: {self.p_name}\")\n",
    "\n",
    "# class C --> Child of Class B\n",
    "class Child(Parent):\n",
    "    def __init__(self, g_name, p_name, c_name):\n",
    "        super().__init__(g_name, p_name)\n",
    "        self.c_name = c_name\n",
    "\n",
    "    def show_child(self):\n",
    "        print(f\"Child Name: {self.c_name}\")"
   ]
  },
  {
   "cell_type": "code",
   "execution_count": 19,
   "id": "b5786cf9",
   "metadata": {},
   "outputs": [
    {
     "name": "stdout",
     "output_type": "stream",
     "text": [
      "Grandparent Name: Ali\n",
      "Parent Name: Ahmed\n",
      "Child Name: Ahsan\n"
     ]
    }
   ],
   "source": [
    "# Demo\n",
    "c1 = Child(\"Ali\", \"Ahmed\", \"Ahsan\")\n",
    "c1.show_grandparent()   \n",
    "c1.show_parent()        \n",
    "c1.show_child()  "
   ]
  },
  {
   "cell_type": "markdown",
   "id": "f82d5126",
   "metadata": {},
   "source": [
    "3.  Multiple Inheritance:"
   ]
  },
  {
   "cell_type": "markdown",
   "id": "015383ae",
   "metadata": {},
   "source": [
    "A child class inherits attributes and methods from more than one parent classes"
   ]
  },
  {
   "cell_type": "markdown",
   "id": "a0ac1d14",
   "metadata": {},
   "source": [
    "![multi inheritance.png](https://github.com/RajaAhsan97/AI-and-Data-Science/blob/6b853d1ec7a88f4c398070af2aa1fffbbfd67826/Class%2016%20(9-24-25)/multi%2520inheritance.png)"
   ]
  },
  {
   "cell_type": "code",
   "execution_count": 20,
   "id": "69b23f12",
   "metadata": {},
   "outputs": [],
   "source": [
    "# Parent class 1\n",
    "class Mother:\n",
    "    # constructor\n",
    "    def __init__(self, name, eye_color):\n",
    "        # Instance attribute\n",
    "        self.name = name\n",
    "        self.eye_color = eye_color\n",
    "        self.mother_language = \"Urdu\"\n",
    "\n",
    "    # Instance Method\n",
    "    def speak(self):\n",
    "        return f\"Mother can speak: {self.mother_language}\"\n",
    "\n",
    "\n",
    "# Parent class 2\n",
    "class Father:\n",
    "    # constructor\n",
    "    def __init__(self, name):\n",
    "        # Instance attributes\n",
    "        self.name = name\n",
    "        self.height = 6.2\n",
    "        self.father_language = \"Punjabi\"\n",
    "\n",
    "    # Instance Method\n",
    "    def speak(self):\n",
    "        return f\"Father can speak: {self.father_language}\"\n",
    "\n",
    "# child class\n",
    "class Child(Father, Mother):\n",
    "    # constructor\n",
    "    def __init__(self, mother_name, father_name, child_name, mother_eye_color):\n",
    "        Mother.__init__(self, mother_name, mother_eye_color)\n",
    "        Father.__init__(self, father_name)\n",
    "        # Extended attributs\n",
    "        self.child_name = child_name\n",
    "\n",
    "    # Instance Method\n",
    "    def additional_language(self, new_language):\n",
    "        return f\"Child decided to learn {new_language}\"\n"
   ]
  },
  {
   "cell_type": "code",
   "execution_count": 21,
   "id": "bba2119e",
   "metadata": {},
   "outputs": [
    {
     "name": "stdout",
     "output_type": "stream",
     "text": [
      "child inherited eye color from mother: brown\n",
      "child inherited height from Father: 6.2\n",
      "child can speak Urdu and Punjabi\n",
      "Father can speak: Punjabi\n",
      "Child decided to learn Chinese\n"
     ]
    }
   ],
   "source": [
    "child_bio_data = Child(\"Mariam\", \"Raza\", \"Umer\", \"brown\")\n",
    "\n",
    "#\n",
    "print(f\"child inherited eye color from mother: {child_bio_data.eye_color}\")\n",
    "print(f\"child inherited height from Father: {child_bio_data.height}\")\n",
    "print(f\"child can speak {child_bio_data.mother_language} and {child_bio_data.father_language}\")        \n",
    "\n",
    "print(child_bio_data.speak())\n",
    "\n",
    "print(child_bio_data.additional_language(\"Chinese\"))\n"
   ]
  }
 ],
 "metadata": {
  "kernelspec": {
   "display_name": "Python 3",
   "language": "python",
   "name": "python3"
  },
  "language_info": {
   "codemirror_mode": {
    "name": "ipython",
    "version": 3
   },
   "file_extension": ".py",
   "mimetype": "text/x-python",
   "name": "python",
   "nbconvert_exporter": "python",
   "pygments_lexer": "ipython3",
   "version": "3.10.5"
  }
 },
 "nbformat": 4,
 "nbformat_minor": 5
}
