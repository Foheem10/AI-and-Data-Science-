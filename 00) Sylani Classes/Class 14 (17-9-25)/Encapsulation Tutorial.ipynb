{
 "cells": [
  {
   "cell_type": "markdown",
   "id": "bf6f77bd-5ae9-4bb5-99be-d3b9683d9b89",
   "metadata": {},
   "source": [
    "Encapsulation:\n",
    "Encapsulation means to bundle data (attributes) and functions (methods) into a single unit called class and controlling access to them.\n",
    "\n",
    "\n",
    "Encapsulation Real-Life Analogy\n",
    "1. ATM MAchine:\n",
    "    1. Data (balance, PIN) --> Hidden inside the bank system      (Private attributes)\n",
    "    2. Methods (verify_pin, chack_balance, Withdraw_cash) --> hidden, we can't directly call them      (Private methods)\n",
    "    3. Public method (WidthDraw_Buttom)\n",
    "\n",
    "3. Car:\n",
    "    1. Data (Engine part, feul system) --> hidden under the hood     (Private attributes)\n",
    "    2. Methods (Ignition, feul injection, brake system) --> hidden   (Private methods)\n",
    "    3. Public methods (Steering wheel, accelerator, brake padel)   \n",
    "\n",
    "\n",
    "Advantage:\n",
    "Data Hiding --> Not all detils should be visible to the outside world\n",
    "\n",
    "Access Modifiers --> In Python we use namming conventions to control access\n",
    "1. Public --> accessible from anywhere\n",
    "2. Private --> add double underscore before variable name (__marks). Can only be accessible from in the instance or by instance methods\n",
    "3. Protected --> Can be accessed from inside the class or from another subclass.  (Inheritence)"
   ]
  },
  {
   "cell_type": "markdown",
   "id": "3df7109d-6734-4355-8cdc-94b18c999d28",
   "metadata": {},
   "source": [
    "Rule of Thumb to set attributes public or private\n",
    "1. Public --> attributes that are safe to access freely\n",
    "2. Private --> attributes which requires validation/security"
   ]
  },
  {
   "cell_type": "code",
   "execution_count": 27,
   "id": "49cb0d70-1904-480b-8907-6606cb014d45",
   "metadata": {},
   "outputs": [],
   "source": [
    "class StudentsRecords():\n",
    "    # class attributes\n",
    "    institute = \"SMIT\"\n",
    "    campus = \"Hajyani campus\"\n",
    "    \n",
    "    # constructor\n",
    "    def __init__(self, nm, r_no, course, marks):\n",
    "        # instance attributes\n",
    "        self.name = nm             # Public\n",
    "        self.roll_no = r_no        # Public\n",
    "        self.course = course       # Public\n",
    "        self.__marks = marks       # Private\n",
    "  \n",
    "    # Magic method\n",
    "    def __str__(self):\n",
    "        return f\"Student {self.name} bearing {self.roll_no} is enrolled in the course {self.course}\"\n",
    "\n",
    "    # instance method\n",
    "    def display(self):\n",
    "        print(f\"------- Institute Details --------\")\n",
    "        print(f\"Institute: {self.institute}\")\n",
    "        print(f\"Campus: {self.campus}\")\n",
    "        print(f\"------- Student details ----------\")\n",
    "        print(f\"Name: {self.name}\")\n",
    "        print(f\"Roll No: {self.roll_no}\")\n",
    "        print(f\"Course: {self.course}\")\n",
    "        print(f\"Marks: {self.__marks}\")\n",
    "\n",
    "    # getter method (To access private attributes)   -- instance method\n",
    "    def get_marks(self):\n",
    "        return self.__marks\n",
    "\n",
    "    # setter method (To modify private attributes)   -- instance method\n",
    "    def update_marks(self, marks):\n",
    "        self.__marks = marks\n",
    "\n",
    "\n",
    "    # display grade method -- instance method\n",
    "    def display_grade(self):\n",
    "        grade = StudentsRecords.convert_marks_to_grades(self.__marks)\n",
    "        print(f\"Grade: {grade}\")\n",
    "    \n",
    "    # helper method\n",
    "    @staticmethod\n",
    "    def convert_marks_to_grades(marks):\n",
    "        print(\"------ SMIT grading system -------\")\n",
    "        print(\"Criteria for Quiz\")\n",
    "        print(\"Pass if marks >= 70%   --> A Grade\")\n",
    "        print(\"Fails if marks < 70%   --> B Grade\") \n",
    "\n",
    "        if marks >= 70:\n",
    "            return \"A\"\n",
    "        else:\n",
    "            return \"B\""
   ]
  },
  {
   "cell_type": "code",
   "execution_count": 28,
   "id": "2698ce4a-9061-426c-b009-50ba2c5511c7",
   "metadata": {},
   "outputs": [
    {
     "name": "stdout",
     "output_type": "stream",
     "text": [
      "Student Faheem bearing qw321 is enrolled in the course AI and DS\n",
      "SMIT\n",
      "Hajyani campus\n",
      "------- Institute Details --------\n",
      "Institute: SMIT\n",
      "Campus: Hajyani campus\n",
      "------- Student details ----------\n",
      "Name: Faheem\n",
      "Roll No: qw321\n",
      "Course: AI and DS\n",
      "Marks: 99\n",
      "None\n"
     ]
    }
   ],
   "source": [
    "student1 = StudentsRecords(\"Faheem\", \"qw321\", \"AI and DS\", 99)\n",
    "\n",
    "print(student1)\n",
    "print(student1.institute)\n",
    "print(student1.campus)\n",
    "print(student1.display())"
   ]
  },
  {
   "cell_type": "code",
   "execution_count": 29,
   "id": "65f6d663-ed15-4423-bb77-494ead97bd12",
   "metadata": {},
   "outputs": [
    {
     "data": {
      "text/plain": [
       "['_StudentsRecords__marks',\n",
       " '__class__',\n",
       " '__delattr__',\n",
       " '__dict__',\n",
       " '__dir__',\n",
       " '__doc__',\n",
       " '__eq__',\n",
       " '__firstlineno__',\n",
       " '__format__',\n",
       " '__ge__',\n",
       " '__getattribute__',\n",
       " '__getstate__',\n",
       " '__gt__',\n",
       " '__hash__',\n",
       " '__init__',\n",
       " '__init_subclass__',\n",
       " '__le__',\n",
       " '__lt__',\n",
       " '__module__',\n",
       " '__ne__',\n",
       " '__new__',\n",
       " '__reduce__',\n",
       " '__reduce_ex__',\n",
       " '__repr__',\n",
       " '__setattr__',\n",
       " '__sizeof__',\n",
       " '__static_attributes__',\n",
       " '__str__',\n",
       " '__subclasshook__',\n",
       " '__weakref__',\n",
       " 'campus',\n",
       " 'convert_marks_to_grades',\n",
       " 'course',\n",
       " 'display',\n",
       " 'display_grade',\n",
       " 'get_marks',\n",
       " 'institute',\n",
       " 'name',\n",
       " 'roll_no',\n",
       " 'update_marks']"
      ]
     },
     "execution_count": 29,
     "metadata": {},
     "output_type": "execute_result"
    }
   ],
   "source": [
    "dir(student1)"
   ]
  },
  {
   "cell_type": "code",
   "execution_count": 30,
   "id": "bb91417d-223e-4752-a625-f324dc5dde47",
   "metadata": {},
   "outputs": [
    {
     "ename": "AttributeError",
     "evalue": "'StudentsRecords' object has no attribute '__marks'",
     "output_type": "error",
     "traceback": [
      "\u001b[1;31m---------------------------------------------------------------------------\u001b[0m",
      "\u001b[1;31mAttributeError\u001b[0m                            Traceback (most recent call last)",
      "Cell \u001b[1;32mIn[30], line 1\u001b[0m\n\u001b[1;32m----> 1\u001b[0m student1\u001b[38;5;241m.\u001b[39m__marks\n",
      "\u001b[1;31mAttributeError\u001b[0m: 'StudentsRecords' object has no attribute '__marks'"
     ]
    }
   ],
   "source": [
    "student1.__marks      # not accessed like this because marks is private attribute of object"
   ]
  },
  {
   "cell_type": "code",
   "execution_count": 31,
   "id": "f6f57023-969d-4f7c-a9ff-57f182ab3e0a",
   "metadata": {},
   "outputs": [
    {
     "name": "stdout",
     "output_type": "stream",
     "text": [
      "------ SMIT grading system -------\n",
      "Criteria for Quiz\n",
      "Pass if marks >= 70%   --> A Grade\n",
      "Fails if marks < 70%   --> B Grade\n",
      "Grade: A\n"
     ]
    }
   ],
   "source": [
    "student1.display_grade()"
   ]
  },
  {
   "cell_type": "code",
   "execution_count": 25,
   "id": "a1833751-073a-4d31-a2ca-4468bac95532",
   "metadata": {},
   "outputs": [
    {
     "data": {
      "text/plain": [
       "99"
      ]
     },
     "execution_count": 25,
     "metadata": {},
     "output_type": "execute_result"
    }
   ],
   "source": [
    "student1.get_marks()"
   ]
  },
  {
   "cell_type": "code",
   "execution_count": 8,
   "id": "43c46c60-6cd9-4653-b86d-fd19074a3bb7",
   "metadata": {},
   "outputs": [],
   "source": [
    "student1.update_marks(67)"
   ]
  },
  {
   "cell_type": "code",
   "execution_count": 9,
   "id": "a6632a56-7a57-416b-bdf8-996322b8b8f2",
   "metadata": {},
   "outputs": [
    {
     "data": {
      "text/plain": [
       "67"
      ]
     },
     "execution_count": 9,
     "metadata": {},
     "output_type": "execute_result"
    }
   ],
   "source": [
    "student1.get_marks()"
   ]
  },
  {
   "cell_type": "code",
   "execution_count": null,
   "id": "68634a2b-f533-407b-bbb5-331b45898ddc",
   "metadata": {},
   "outputs": [],
   "source": []
  }
 ],
 "metadata": {
  "kernelspec": {
   "display_name": "Python 3 (ipykernel)",
   "language": "python",
   "name": "python3"
  },
  "language_info": {
   "codemirror_mode": {
    "name": "ipython",
    "version": 3
   },
   "file_extension": ".py",
   "mimetype": "text/x-python",
   "name": "python",
   "nbconvert_exporter": "python",
   "pygments_lexer": "ipython3",
   "version": "3.13.5"
  }
 },
 "nbformat": 4,
 "nbformat_minor": 5
}
