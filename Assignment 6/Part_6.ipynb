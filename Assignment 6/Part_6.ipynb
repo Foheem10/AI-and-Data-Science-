{
 "cells": [
  {
   "cell_type": "code",
   "execution_count": 25,
   "id": "68d4306b",
   "metadata": {},
   "outputs": [],
   "source": [
    "import numpy as np "
   ]
  },
  {
   "cell_type": "code",
   "execution_count": 26,
   "id": "4bb1af30",
   "metadata": {},
   "outputs": [
    {
     "name": "stdout",
     "output_type": "stream",
     "text": [
      "[[1 2 3]\n",
      " [4 5 6]\n",
      " [7 8 9]]\n"
     ]
    }
   ],
   "source": [
    "A = np.array([[1, 2, 3],\n",
    "              [4, 5, 6],\n",
    "              [7, 8, 9]])\n",
    "\n",
    "print(A)\n"
   ]
  },
  {
   "cell_type": "markdown",
   "id": "06961e3e",
   "metadata": {},
   "source": [
    "(a) Scalar broadcasting"
   ]
  },
  {
   "cell_type": "code",
   "execution_count": 27,
   "id": "3811e784",
   "metadata": {},
   "outputs": [
    {
     "name": "stdout",
     "output_type": "stream",
     "text": [
      "After adding 10:\n",
      " [[11 12 13]\n",
      " [14 15 16]\n",
      " [17 18 19]]\n",
      "\n",
      "Shape: (3, 3)\n"
     ]
    }
   ],
   "source": [
    "scalar_add = A + 10\n",
    "print(\"After adding 10:\\n\", scalar_add)\n",
    "print(\"\\nShape:\", scalar_add.shape)\n",
    "\n",
    "#[[1+10, 2+10, 3+10],\n",
    "# [4+10, 5+10, 6+10],\n",
    "# [7+10, 8+10, 9+10]]\n"
   ]
  },
  {
   "cell_type": "markdown",
   "id": "755af732",
   "metadata": {},
   "source": [
    "(b) Row broadcasting"
   ]
  },
  {
   "cell_type": "code",
   "execution_count": 28,
   "id": "5f060dd7",
   "metadata": {},
   "outputs": [
    {
     "name": "stdout",
     "output_type": "stream",
     "text": [
      "After adding row vector:\n",
      " [[ 2  4  6]\n",
      " [ 5  7  9]\n",
      " [ 8 10 12]]\n",
      "\n",
      "Shape: (3, 3)\n"
     ]
    }
   ],
   "source": [
    "row = np.array([1, 2, 3])\n",
    "row_add = A + row\n",
    "print(\"After adding row vector:\\n\", row_add)\n",
    "print(\"\\nShape:\", row_add.shape)\n",
    "\n",
    "# [[1+1, 2+2, 3+3],\n",
    "# [4+1, 5+2, 6+3],\n",
    "# [7+1, 8+2, 9+3]]\n"
   ]
  },
  {
   "cell_type": "markdown",
   "id": "cdd14b1a",
   "metadata": {},
   "source": [
    "(c) Column broadcasting"
   ]
  },
  {
   "cell_type": "code",
   "execution_count": 29,
   "id": "8184ee23",
   "metadata": {},
   "outputs": [
    {
     "name": "stdout",
     "output_type": "stream",
     "text": [
      "After adding column vector:\n",
      " [[ 2  3  4]\n",
      " [ 6  7  8]\n",
      " [10 11 12]]\n",
      "\n",
      "Shape: (3, 3)\n"
     ]
    }
   ],
   "source": [
    "col = np.array([[1],\n",
    "                [2], \n",
    "                [3]])\n",
    "col_add = A + col\n",
    "\n",
    "print(\"After adding column vector:\\n\", col_add)\n",
    "print(\"\\nShape:\", col_add.shape)\n",
    "\n",
    "#[[1+1, 2+1, 3+1],\n",
    "# [4+2, 5+2, 6+2],\n",
    "# [7+3, 8+3, 9+3]]\n"
   ]
  }
 ],
 "metadata": {
  "kernelspec": {
   "display_name": "Python 3",
   "language": "python",
   "name": "python3"
  },
  "language_info": {
   "codemirror_mode": {
    "name": "ipython",
    "version": 3
   },
   "file_extension": ".py",
   "mimetype": "text/x-python",
   "name": "python",
   "nbconvert_exporter": "python",
   "pygments_lexer": "ipython3",
   "version": "3.13.5"
  }
 },
 "nbformat": 4,
 "nbformat_minor": 5
}
