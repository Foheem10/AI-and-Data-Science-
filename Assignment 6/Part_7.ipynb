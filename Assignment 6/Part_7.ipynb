{
 "cells": [
  {
   "cell_type": "code",
   "execution_count": 1,
   "id": "5c48cecd",
   "metadata": {},
   "outputs": [],
   "source": [
    "import numpy as np"
   ]
  },
  {
   "cell_type": "markdown",
   "id": "f98eb4b2",
   "metadata": {},
   "source": [
    "1: Create and Reshape an Array"
   ]
  },
  {
   "cell_type": "code",
   "execution_count": 2,
   "id": "043c99e3",
   "metadata": {},
   "outputs": [
    {
     "name": "stdout",
     "output_type": "stream",
     "text": [
      "[ 1  2  3  4  5  6  7  8  9 10 11 12]\n"
     ]
    }
   ],
   "source": [
    "arr = np.arange(1, 13)\n",
    "print(arr)"
   ]
  },
  {
   "cell_type": "code",
   "execution_count": null,
   "id": "204d9c2a",
   "metadata": {},
   "outputs": [
    {
     "name": "stdout",
     "output_type": "stream",
     "text": [
      "Reshaped into (3x4):\n",
      " [[ 1  2  3  4]\n",
      " [ 5  6  7  8]\n",
      " [ 9 10 11 12]]\n",
      "\n",
      "Reshaped into (2x6):\n",
      " [[ 1  2  3  4  5  6]\n",
      " [ 7  8  9 10 11 12]]\n"
     ]
    }
   ],
   "source": [
    "arr_3x4 = arr.reshape(3, 4)\n",
    "print(\"Reshaped into (3x4):\\n\", arr_3x4)\n",
    "\n",
    "arr_2x6 = arr.reshape(2, 6)\n",
    "print(\"\\nReshaped into (2x6):\\n\", arr_2x6)\n"
   ]
  },
  {
   "cell_type": "markdown",
   "id": "6fc1a894",
   "metadata": {},
   "source": [
    "2: Flatten and Ravel"
   ]
  },
  {
   "cell_type": "code",
   "execution_count": 4,
   "id": "3f0f7422",
   "metadata": {},
   "outputs": [
    {
     "name": "stdout",
     "output_type": "stream",
     "text": [
      "[[1 2 3]\n",
      " [4 5 6]]\n"
     ]
    }
   ],
   "source": [
    "arr = np.array([[1, 2, 3],\n",
    "                [4, 5, 6]])\n",
    "\n",
    "print(arr)"
   ]
  },
  {
   "cell_type": "code",
   "execution_count": 10,
   "id": "e68d0b5d",
   "metadata": {},
   "outputs": [
    {
     "name": "stdout",
     "output_type": "stream",
     "text": [
      "Flattened Array:\n",
      " [  1 200   3   4   5   6]\n",
      "Raveled Array:\n",
      " [  1 200   3   4   5   6]\n",
      "---------------------------\n",
      "After Modifying Flatten and Ravel:\n",
      "Flattened Array: [100 200   3   4   5   6]\n",
      "Raveled Array: [  1 200   3   4   5   6]\n",
      "---------------------------\n",
      "Original Array after modification:\n",
      " [[  1 200   3]\n",
      " [  4   5   6]]\n"
     ]
    }
   ],
   "source": [
    "flat = arr.flatten()\n",
    "rav = arr.ravel()\n",
    "\n",
    "print(\"Flattened Array:\\n\", flat)\n",
    "print(\"Raveled Array:\\n\", rav)\n",
    "\n",
    "# Modifying \n",
    "flat[0] = 100\n",
    "rav[1] = 200\n",
    "print(\"---------------------------\")\n",
    "\n",
    "print(\"After Modifying Flatten and Ravel:\")\n",
    "print(\"Flattened Array:\", flat)\n",
    "print(\"Raveled Array:\", rav)\n",
    "print(\"---------------------------\")\n",
    "print(\"Original Array after modification:\\n\", arr)\n"
   ]
  },
  {
   "cell_type": "markdown",
   "id": "7e9dce20",
   "metadata": {},
   "source": [
    "Step # 3"
   ]
  },
  {
   "cell_type": "code",
   "execution_count": 12,
   "id": "9c3e87e5",
   "metadata": {},
   "outputs": [
    {
     "name": "stdout",
     "output_type": "stream",
     "text": [
      "[[1 2 3]\n",
      " [4 5 6]\n",
      " [7 8 9]]\n"
     ]
    }
   ],
   "source": [
    "arr = np.arange(1, 10).reshape(3, 3)\n",
    "print(arr)"
   ]
  },
  {
   "cell_type": "code",
   "execution_count": 18,
   "id": "d31aff69",
   "metadata": {},
   "outputs": [
    {
     "name": "stdout",
     "output_type": "stream",
     "text": [
      "\n",
      "Flattened Array:\n",
      " [  1 888   3   4   5   6   7   8   9]\n",
      "Raveled Array:\n",
      " [  1 888   3   4   5   6   7   8   9]\n",
      "--------------------------------\n",
      "Flattened Array: [999 888   3   4   5   6   7   8   9]\n",
      "Raveled Array: [  1 888   3   4   5   6   7   8   9]\n",
      "--------------------------------\n",
      "Array after changes:\n",
      " [[  1 888   3]\n",
      " [  4   5   6]\n",
      " [  7   8   9]]\n"
     ]
    }
   ],
   "source": [
    "flat_arr = arr.flatten()\n",
    "ravel_arr = arr.ravel()\n",
    "\n",
    "print(\"\\nFlattened Array:\\n\", flat_arr)\n",
    "print(\"Raveled Array:\\n\", ravel_arr)\n",
    "print(\"--------------------------------\")\n",
    "\n",
    "# Modifying\n",
    "flat_arr[0] = 999\n",
    "ravel_arr[1] = 888\n",
    "\n",
    "print(\"Flattened Array:\", flat_arr)\n",
    "print(\"Raveled Array:\", ravel_arr)\n",
    "print(\"--------------------------------\")\n",
    "print(\"Array after changes:\\n\", arr)\n"
   ]
  }
 ],
 "metadata": {
  "kernelspec": {
   "display_name": "Python 3",
   "language": "python",
   "name": "python3"
  },
  "language_info": {
   "codemirror_mode": {
    "name": "ipython",
    "version": 3
   },
   "file_extension": ".py",
   "mimetype": "text/x-python",
   "name": "python",
   "nbconvert_exporter": "python",
   "pygments_lexer": "ipython3",
   "version": "3.13.5"
  }
 },
 "nbformat": 4,
 "nbformat_minor": 5
}
