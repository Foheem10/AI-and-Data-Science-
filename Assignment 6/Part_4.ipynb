{
 "cells": [
  {
   "cell_type": "code",
   "execution_count": 2,
   "id": "4e6783bc",
   "metadata": {},
   "outputs": [],
   "source": [
    "import numpy as np"
   ]
  },
  {
   "cell_type": "code",
   "execution_count": 3,
   "id": "951b89d3",
   "metadata": {},
   "outputs": [
    {
     "name": "stdout",
     "output_type": "stream",
     "text": [
      "[[ 10  20  30  40]\n",
      " [ 50  60  70  80]\n",
      " [ 90 100 110 120]]\n"
     ]
    }
   ],
   "source": [
    "arr = np.array([[10, 20, 30, 40],\n",
    "                [50, 60, 70, 80],\n",
    "                [90, 100, 110, 120]])\n",
    "\n",
    "print(arr)"
   ]
  },
  {
   "cell_type": "markdown",
   "id": "e058af34",
   "metadata": {},
   "source": [
    "Extracting second row"
   ]
  },
  {
   "cell_type": "code",
   "execution_count": 4,
   "id": "78996cab",
   "metadata": {},
   "outputs": [
    {
     "name": "stdout",
     "output_type": "stream",
     "text": [
      "[50 60 70 80]\n"
     ]
    }
   ],
   "source": [
    "second_row = arr[1]\n",
    "print(second_row)\n"
   ]
  },
  {
   "cell_type": "markdown",
   "id": "2ef3a97d",
   "metadata": {},
   "source": [
    "Extracting first two rows and the second two columns"
   ]
  },
  {
   "cell_type": "code",
   "execution_count": 5,
   "id": "01c040bd",
   "metadata": {},
   "outputs": [
    {
     "name": "stdout",
     "output_type": "stream",
     "text": [
      "[[30 40]\n",
      " [70 80]]\n"
     ]
    }
   ],
   "source": [
    "colmn_row = arr[0:2, 2:4]\n",
    "print(colmn_row)\n"
   ]
  },
  {
   "cell_type": "markdown",
   "id": "d3c52515",
   "metadata": {},
   "source": [
    "Extracting last column using slicing"
   ]
  },
  {
   "cell_type": "code",
   "execution_count": 6,
   "id": "5fee1456",
   "metadata": {},
   "outputs": [
    {
     "name": "stdout",
     "output_type": "stream",
     "text": [
      "[ 40  80 120]\n"
     ]
    }
   ],
   "source": [
    "last_column = arr[:, -1]\n",
    "print(last_column)\n"
   ]
  },
  {
   "cell_type": "markdown",
   "id": "79932ce7",
   "metadata": {},
   "source": [
    "Replacing middle row "
   ]
  },
  {
   "cell_type": "code",
   "execution_count": 7,
   "id": "e05ee19e",
   "metadata": {},
   "outputs": [
    {
     "name": "stdout",
     "output_type": "stream",
     "text": [
      "[[ 10  20  30  40]\n",
      " [  1   2   3   4]\n",
      " [ 90 100 110 120]]\n"
     ]
    }
   ],
   "source": [
    "arr[1] = [1, 2, 3, 4]\n",
    "print(arr)\n"
   ]
  }
 ],
 "metadata": {
  "kernelspec": {
   "display_name": "Python 3",
   "language": "python",
   "name": "python3"
  },
  "language_info": {
   "codemirror_mode": {
    "name": "ipython",
    "version": 3
   },
   "file_extension": ".py",
   "mimetype": "text/x-python",
   "name": "python",
   "nbconvert_exporter": "python",
   "pygments_lexer": "ipython3",
   "version": "3.13.5"
  }
 },
 "nbformat": 4,
 "nbformat_minor": 5
}
