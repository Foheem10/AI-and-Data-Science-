{
 "cells": [
  {
   "cell_type": "code",
   "execution_count": 13,
   "id": "0fff1a44",
   "metadata": {},
   "outputs": [],
   "source": [
    "import numpy as np"
   ]
  },
  {
   "cell_type": "markdown",
   "id": "63831966",
   "metadata": {},
   "source": [
    "1(a) Zero Matrix (4x4)"
   ]
  },
  {
   "cell_type": "code",
   "execution_count": 14,
   "id": "4c8fba4c",
   "metadata": {},
   "outputs": [
    {
     "name": "stdout",
     "output_type": "stream",
     "text": [
      "[[0. 0. 0. 0.]\n",
      " [0. 0. 0. 0.]\n",
      " [0. 0. 0. 0.]\n",
      " [0. 0. 0. 0.]]\n"
     ]
    }
   ],
   "source": [
    "zero_matrix = np.zeros((4, 4))\n",
    "print(zero_matrix)"
   ]
  },
  {
   "cell_type": "markdown",
   "id": "b335229a",
   "metadata": {},
   "source": [
    "1(b) One Matrix (3x2)"
   ]
  },
  {
   "cell_type": "code",
   "execution_count": 15,
   "id": "a7fd0913",
   "metadata": {},
   "outputs": [
    {
     "name": "stdout",
     "output_type": "stream",
     "text": [
      "[[1. 1.]\n",
      " [1. 1.]\n",
      " [1. 1.]]\n"
     ]
    }
   ],
   "source": [
    "one_matrix = np.ones((3, 2))\n",
    "print(one_matrix)"
   ]
  },
  {
   "cell_type": "markdown",
   "id": "da8a6e46",
   "metadata": {},
   "source": [
    "1(c) Identity Matrix (5x5)"
   ]
  },
  {
   "cell_type": "code",
   "execution_count": 16,
   "id": "2257a082",
   "metadata": {},
   "outputs": [
    {
     "name": "stdout",
     "output_type": "stream",
     "text": [
      "[[1. 0. 0. 0. 0.]\n",
      " [0. 1. 0. 0. 0.]\n",
      " [0. 0. 1. 0. 0.]\n",
      " [0. 0. 0. 1. 0.]\n",
      " [0. 0. 0. 0. 1.]]\n"
     ]
    }
   ],
   "source": [
    "identity_matrix = np.eye(5)\n",
    "print(identity_matrix)\n"
   ]
  },
  {
   "cell_type": "markdown",
   "id": "54647f5b",
   "metadata": {},
   "source": [
    "1(d) Constant Value Array (filled with 7)"
   ]
  },
  {
   "cell_type": "code",
   "execution_count": 17,
   "id": "3b22fb1f",
   "metadata": {},
   "outputs": [
    {
     "name": "stdout",
     "output_type": "stream",
     "text": [
      "[[7 7 7]\n",
      " [7 7 7]\n",
      " [7 7 7]]\n"
     ]
    }
   ],
   "source": [
    "constant_array = np.full((3, 3), 7)\n",
    "print(constant_array)\n"
   ]
  },
  {
   "cell_type": "markdown",
   "id": "1a49f7af",
   "metadata": {},
   "source": [
    "1(e) Random Integer Array (3x4)"
   ]
  },
  {
   "cell_type": "code",
   "execution_count": 18,
   "id": "ab4b5c41",
   "metadata": {},
   "outputs": [
    {
     "name": "stdout",
     "output_type": "stream",
     "text": [
      "[[44 97 81 26]\n",
      " [36 89 47 10]\n",
      " [31 60 99 77]]\n"
     ]
    }
   ],
   "source": [
    "random_array = np.random.randint(10, 100, size=(3, 4))\n",
    "print(random_array)\n"
   ]
  },
  {
   "cell_type": "markdown",
   "id": "ac8621d6",
   "metadata": {},
   "source": [
    "2. np.arange()"
   ]
  },
  {
   "cell_type": "code",
   "execution_count": 20,
   "id": "009c4478",
   "metadata": {},
   "outputs": [
    {
     "name": "stdout",
     "output_type": "stream",
     "text": [
      "\n",
      "Array from 5 to 50 with step 5:\n",
      "[ 5 10 15 20 25 30 35 40 45]\n",
      "\n",
      "Reshaped Array (3x3):\n",
      "[[ 5 10 15]\n",
      " [20 25 30]\n",
      " [35 40 45]]\n"
     ]
    }
   ],
   "source": [
    "arr = np.arange(5, 50, 5)\n",
    "print(\"\\nArray from 5 to 50 with step 5:\")\n",
    "print(arr)\n",
    "\n",
    "reshaped_arr = arr.reshape(3, 3)\n",
    "print(\"\\nReshaped Array (3x3):\")\n",
    "print(reshaped_arr)\n"
   ]
  }
 ],
 "metadata": {
  "kernelspec": {
   "display_name": "Python 3",
   "language": "python",
   "name": "python3"
  },
  "language_info": {
   "codemirror_mode": {
    "name": "ipython",
    "version": 3
   },
   "file_extension": ".py",
   "mimetype": "text/x-python",
   "name": "python",
   "nbconvert_exporter": "python",
   "pygments_lexer": "ipython3",
   "version": "3.13.5"
  }
 },
 "nbformat": 4,
 "nbformat_minor": 5
}
